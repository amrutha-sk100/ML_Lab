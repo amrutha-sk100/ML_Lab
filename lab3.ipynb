{
 "cells": [
  {
   "cell_type": "markdown",
   "id": "88a3c07c",
   "metadata": {},
   "source": [
    "### A1"
   ]
  },
  {
   "cell_type": "code",
   "execution_count": 6,
   "id": "fe4ab0b1",
   "metadata": {},
   "outputs": [
    {
     "name": "stdout",
     "output_type": "stream",
     "text": [
      "Dimensionality:  3\n",
      "Vectors:  10\n",
      "Rank:  3\n",
      "Pseudo Inverse: \n",
      " [[-0.01008596 -0.03124505  0.01013951  0.0290728   0.0182907   0.01161794\n",
      "  -0.00771348  0.00095458  0.01743623 -0.00542016]\n",
      " [ 0.09059668  0.07263726  0.03172933 -0.09071908 -0.01893196 -0.06926996\n",
      "   0.05675464  0.03152577 -0.07641966  0.00357352]\n",
      " [ 0.00299878  0.15874243 -0.05795468 -0.06609024 -0.06295043  0.03348017\n",
      "   0.01541831 -0.01070461  0.00029003  0.05938755]]\n"
     ]
    }
   ],
   "source": [
    "import numpy as np\n",
    "import pandas as pd\n",
    "\n",
    "file_path = r\"C:\\Users\\year3\\Downloads\\Lab Session Data (1) (1).xlsx\"\n",
    "sheet_name = 'Purchase data'\n",
    "df = pd.read_excel(file_path, sheet_name=sheet_name)\n",
    "\n",
    "A = df.iloc[:, 1:4].values\n",
    "C = df.iloc[:, 4].values\n",
    "\n",
    "def dimensionality(A):\n",
    "    print(\"Dimensionality: \",A.shape[1])\n",
    "    \n",
    "def vectors(A):\n",
    "    print(\"Vectors: \",A.shape[0])\n",
    "\n",
    "def rank(A):\n",
    "    rank = np.linalg.matrix_rank(A)\n",
    "    print(\"Rank: \", rank)\n",
    "\n",
    "def inv(A):\n",
    "    pseudo = np.linalg.pinv(A)\n",
    "    print(\"Pseudo Inverse: \\n\",pseudo)\n",
    "    \n",
    "dimensionality(A)\n",
    "vectors(A)\n",
    "rank(A)\n",
    "inv(A)"
   ]
  },
  {
   "cell_type": "markdown",
   "id": "b19bce1b",
   "metadata": {},
   "source": [
    "### A2"
   ]
  },
  {
   "cell_type": "code",
   "execution_count": 8,
   "id": "e8ef7b3a",
   "metadata": {},
   "outputs": [
    {
     "name": "stdout",
     "output_type": "stream",
     "text": [
      "Esdtimatd Costs: \n",
      " [ 1. 55. 18.]\n"
     ]
    }
   ],
   "source": [
    "def cost(A):\n",
    "    pseudo = np.linalg.pinv(A)\n",
    "    cost = np.dot(pseudo,C)\n",
    "    print(\"Esdtimatd Costs: \\n\", cost)\n",
    "    \n",
    "cost(A)"
   ]
  },
  {
   "cell_type": "markdown",
   "id": "a12939d1",
   "metadata": {},
   "source": [
    "### A3"
   ]
  },
  {
   "cell_type": "code",
   "execution_count": 10,
   "id": "7c304c21",
   "metadata": {},
   "outputs": [
    {
     "name": "stdout",
     "output_type": "stream",
     "text": [
      "\n",
      "Classification Report:\n",
      "              precision    recall  f1-score   support\n",
      "\n",
      "        POOR       0.67      1.00      0.80         2\n",
      "        RICH       0.00      0.00      0.00         1\n",
      "\n",
      "    accuracy                           0.67         3\n",
      "   macro avg       0.33      0.50      0.40         3\n",
      "weighted avg       0.44      0.67      0.53         3\n",
      "\n"
     ]
    },
    {
     "name": "stderr",
     "output_type": "stream",
     "text": [
      "C:\\ProgramData\\anaconda3\\Lib\\site-packages\\sklearn\\metrics\\_classification.py:1469: UndefinedMetricWarning: Precision and F-score are ill-defined and being set to 0.0 in labels with no predicted samples. Use `zero_division` parameter to control this behavior.\n",
      "  _warn_prf(average, modifier, msg_start, len(result))\n",
      "C:\\ProgramData\\anaconda3\\Lib\\site-packages\\sklearn\\metrics\\_classification.py:1469: UndefinedMetricWarning: Precision and F-score are ill-defined and being set to 0.0 in labels with no predicted samples. Use `zero_division` parameter to control this behavior.\n",
      "  _warn_prf(average, modifier, msg_start, len(result))\n",
      "C:\\ProgramData\\anaconda3\\Lib\\site-packages\\sklearn\\metrics\\_classification.py:1469: UndefinedMetricWarning: Precision and F-score are ill-defined and being set to 0.0 in labels with no predicted samples. Use `zero_division` parameter to control this behavior.\n",
      "  _warn_prf(average, modifier, msg_start, len(result))\n"
     ]
    }
   ],
   "source": [
    "from sklearn.model_selection import train_test_split\n",
    "from sklearn.linear_model import LogisticRegression\n",
    "from sklearn.preprocessing import StandardScaler\n",
    "from sklearn.metrics import classification_report\n",
    "\n",
    "def classify_customers(df):\n",
    "    df['Class'] = np.where(df['Payment (Rs)'] > 200, 'RICH', 'POOR')\n",
    "\n",
    "    X = df[['Candies (#)', 'Mangoes (Kg)', 'Milk Packets (#)']].values\n",
    "    y = df['Class'].values\n",
    "   \n",
    "    scaler = StandardScaler()\n",
    "    X_scaled = scaler.fit_transform(X)\n",
    "   \n",
    "    X_train, X_test, y_train, y_test = train_test_split(X_scaled, y, test_size=0.3, random_state=42)\n",
    "   \n",
    "    model = LogisticRegression()\n",
    "    model.fit(X_train, y_train)\n",
    "   \n",
    "    y_pred = model.predict(X_test)\n",
    "   \n",
    "    print(\"\\nClassification Report:\")\n",
    "    print(classification_report(y_test, y_pred))\n",
    "    \n",
    "classify_customers(df)"
   ]
  },
  {
   "cell_type": "markdown",
   "id": "5da6db4e",
   "metadata": {},
   "source": [
    "### A4"
   ]
  },
  {
   "cell_type": "code",
   "execution_count": 33,
   "id": "f7231d3b",
   "metadata": {},
   "outputs": [
    {
     "name": "stdout",
     "output_type": "stream",
     "text": [
      "Mean of 'Price Data': 1560.6634538152612\n",
      "Variance of 'Price Data': 58732.36535253922\n",
      "Sample Mean (Wednesdays): 1550.7060000000001\n",
      "Sample Mean (April): 1698.9526315789474\n",
      "Probability of making a loss: 49.80%\n",
      "Probability of making a profit on Wednesday: 42.00%\n",
      "Conditional Probability of making a profit on Wednesday: 42.00%\n"
     ]
    }
   ],
   "source": [
    "sheet_name2 = 'IRCTC Stock Price'\n",
    "df2 = pd.read_excel(file_path, sheet_name=sheet_name2)\n",
    "\n",
    "price = df2.iloc[:, 3]\n",
    "\n",
    "def population_mean(df2):\n",
    "    mean = price.mean()\n",
    "    variance = price.var()\n",
    "    print(f\"Mean of 'Price Data': {mean}\")\n",
    "    print(f\"Variance of 'Price Data': {variance}\")\n",
    "    \n",
    "def wed(df2):\n",
    "    wed_data = df2[df2['Day'] == 'Wed']\n",
    "    sample_mean = wed_data['Price'].mean()\n",
    "    print(f\"Sample Mean (Wednesdays): {sample_mean}\")\n",
    "    \n",
    "def apr(df2):\n",
    "    apr_data = df2[df2['Month'] == 'Apr']\n",
    "    sample_mean = apr_data['Price'].mean()\n",
    "    print(f\"Sample Mean (April): {sample_mean}\")\n",
    "    \n",
    "def loss(df2):\n",
    "    if df2['Chg%'].dtype == 'object':\n",
    "    # Convert 'Chg%' column to numeric values if it's a string\n",
    "        df2['Chg%'] = df2['Chg%'].str.rstrip('%').astype(float) / 100\n",
    "    else:\n",
    "    # If 'Chg%' is already numeric, ensure it's in the correct format (if necessary)\n",
    "        df2['Chg%'] = df2['Chg%'].astype(float) / 100\n",
    "    total = len(df2)\n",
    "    loss = df2['Chg%'].apply(lambda x: x < 0).sum()\n",
    "    probability = loss/total\n",
    "    print(f\"Probability of making a loss: {probability:.2%}\")\n",
    "    \n",
    "def wed_profit(df2):\n",
    "    wed_data = df2[df2['Day'] == 'Wed']\n",
    "    if df2['Chg%'].dtype == 'object':\n",
    "        df2['Chg%'] = df2['Chg%'].str.rstrip('%').astype(float) / 100\n",
    "    else:\n",
    "        df2['Chg%'] = df2['Chg%'].astype(float) / 100\n",
    "    total = len(wed_data)\n",
    "    profit = wed_data['Chg%'].apply(lambda x: x > 0).sum()\n",
    "    prob = profit/total\n",
    "    print(f\"Probability of making a profit on Wednesday: {prob:.2%}\")\n",
    "    \n",
    "def condn_wed_profit(df2):\n",
    "    wed_data = df2[df2['Day'] == 'Wed']\n",
    "    if df2['Chg%'].dtype == 'object':\n",
    "        df2['Chg%'] = df2['Chg%'].str.rstrip('%').astype(float) / 100\n",
    "    else:\n",
    "        df2['Chg%'] = df2['Chg%'].astype(float) / 100\n",
    "    total = len(wed_data)\n",
    "    profit = wed_data['Chg%'].apply(lambda x: x > 0).sum()\n",
    "    prob = profit/total\n",
    "    print(f\"Conditional Probability of making a profit on Wednesday: {prob:.2%}\")\n",
    "    \n",
    "population_mean(df2)\n",
    "wed(df2)\n",
    "apr(df2)\n",
    "loss(df2)\n",
    "wed_profit(df2)\n",
    "condn_wed_profit(df2)"
   ]
  },
  {
   "cell_type": "code",
   "execution_count": null,
   "id": "15dc929d",
   "metadata": {},
   "outputs": [],
   "source": []
  }
 ],
 "metadata": {
  "kernelspec": {
   "display_name": "Python 3 (ipykernel)",
   "language": "python",
   "name": "python3"
  },
  "language_info": {
   "codemirror_mode": {
    "name": "ipython",
    "version": 3
   },
   "file_extension": ".py",
   "mimetype": "text/x-python",
   "name": "python",
   "nbconvert_exporter": "python",
   "pygments_lexer": "ipython3",
   "version": "3.11.4"
  }
 },
 "nbformat": 4,
 "nbformat_minor": 5
}
